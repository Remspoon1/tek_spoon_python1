{
 "cells": [
  {
   "cell_type": "code",
   "execution_count": 6,
   "id": "c5bd2883",
   "metadata": {},
   "outputs": [
    {
     "name": "stdout",
     "output_type": "stream",
     "text": [
      "Hi, my name is John Doe 29\n",
      "\n",
      "hello\n"
     ]
    }
   ],
   "source": [
    "my_age = 29\n",
    "first_name = \"John\"\n",
    "last_name = \"Doe\"\n",
    "\n",
    "print(\"Hi, my name is \" + first_name + \" \" + last_name + \" \" + str(my_age)+ \"\\n\")\n",
    "print(\"hello\")"
   ]
  },
  {
   "cell_type": "code",
   "execution_count": 15,
   "id": "169715f4",
   "metadata": {},
   "outputs": [
    {
     "name": "stdout",
     "output_type": "stream",
     "text": [
      "Hi, my name is John Doe 29 \n",
      "\n"
     ]
    }
   ],
   "source": [
    "print(\"Hi, my name is %s %s %s \\n\" % (first_name, last_name, my_age))"
   ]
  },
  {
   "cell_type": "code",
   "execution_count": 18,
   "id": "b8259ad8",
   "metadata": {},
   "outputs": [
    {
     "name": "stdout",
     "output_type": "stream",
     "text": [
      "Hi, my name is John Doe 29\n",
      "\n"
     ]
    }
   ],
   "source": [
    "print(\"Hi, my name is \" + \" \".join([first_name, last_name, str(my_age)]) +\"\\n\")"
   ]
  },
  {
   "cell_type": "code",
   "execution_count": 20,
   "id": "87742410",
   "metadata": {},
   "outputs": [
    {
     "name": "stdout",
     "output_type": "stream",
     "text": [
      "Hi, my name is John Doe 29\n",
      "\n"
     ]
    }
   ],
   "source": [
    "print(\"Hi, my name is {} {} {}\\n\".format(first_name, last_name, str(my_age)))"
   ]
  },
  {
   "cell_type": "code",
   "execution_count": 21,
   "id": "2f35b6cf",
   "metadata": {},
   "outputs": [
    {
     "name": "stdout",
     "output_type": "stream",
     "text": [
      "Hi, my name is John Doe 29\n",
      "\n",
      "Hi, my name is John Doe 29 \n",
      "\n",
      "Hi, my name is John Doe 29\n",
      "\n",
      "Hi, my name is John Doe 29\n",
      "\n"
     ]
    }
   ],
   "source": [
    "print(\"Hi, my name is \" + first_name + \" \" + last_name + \" \" + str(my_age)+ \"\\n\")\n",
    "\n",
    "print(\"Hi, my name is %s %s %s \\n\" % (first_name, last_name, my_age))\n",
    "\n",
    "print(\"Hi, my name is \" + \" \".join([first_name, last_name, str(my_age)]) +\"\\n\")\n",
    "\n",
    "print(\"Hi, my name is {} {} {}\\n\".format(first_name, last_name, str(my_age)))"
   ]
  },
  {
   "cell_type": "code",
   "execution_count": 22,
   "id": "f5894906",
   "metadata": {},
   "outputs": [
    {
     "name": "stdout",
     "output_type": "stream",
     "text": [
      "range(0, 10)\n"
     ]
    }
   ],
   "source": [
    "print(range(10))"
   ]
  },
  {
   "cell_type": "code",
   "execution_count": 23,
   "id": "f61a5ec3",
   "metadata": {},
   "outputs": [
    {
     "name": "stdout",
     "output_type": "stream",
     "text": [
      "range(0, -9)\n"
     ]
    }
   ],
   "source": [
    "print(range(1-10))"
   ]
  },
  {
   "cell_type": "code",
   "execution_count": 26,
   "id": "bb65bfcd",
   "metadata": {},
   "outputs": [
    {
     "name": "stdout",
     "output_type": "stream",
     "text": [
      "2\n",
      "4\n",
      "6\n",
      "8\n",
      "10\n",
      "12\n",
      "14\n",
      "16\n",
      "18\n",
      "20\n"
     ]
    }
   ],
   "source": [
    "for i in range(2,21,2):\n",
    "    print (i)"
   ]
  },
  {
   "cell_type": "code",
   "execution_count": 31,
   "id": "b719ebaf",
   "metadata": {},
   "outputs": [
    {
     "name": "stdout",
     "output_type": "stream",
     "text": [
      "<class 'str'>\n",
      "<class 'str'>\n",
      "<class 'int'>\n",
      "<class 'int'>\n",
      "<class 'str'>\n",
      "<class 'bool'>\n",
      "<class 'bool'>\n",
      "<class 'list'>\n",
      "<class 'dict'>\n"
     ]
    }
   ],
   "source": [
    "mixed=[\"dog\", \"cat\", 4, 7, \"nineteen\", True, False, [1,2,3], {1:\"one\",2:\"two\"}]\n",
    "for i in mixed:\n",
    "    print(type(i))"
   ]
  },
  {
   "cell_type": "code",
   "execution_count": 35,
   "id": "9289cfa9",
   "metadata": {},
   "outputs": [
    {
     "name": "stdout",
     "output_type": "stream",
     "text": [
      "olleh\n"
     ]
    }
   ],
   "source": [
    "txt = \"hello\"[::-1]\n",
    "print(txt)"
   ]
  },
  {
   "cell_type": "code",
   "execution_count": 38,
   "id": "e2f0b2e1",
   "metadata": {},
   "outputs": [
    {
     "name": "stdout",
     "output_type": "stream",
     "text": [
      "olleh\n"
     ]
    }
   ],
   "source": [
    "print(\"hello\"[::-1])\n"
   ]
  },
  {
   "cell_type": "code",
   "execution_count": 44,
   "id": "c3a74174",
   "metadata": {},
   "outputs": [
    {
     "ename": "TypeError",
     "evalue": "'int' object is not subscriptable",
     "output_type": "error",
     "traceback": [
      "\u001b[1;31m---------------------------------------------------------------------------\u001b[0m",
      "\u001b[1;31mTypeError\u001b[0m                                 Traceback (most recent call last)",
      "\u001b[1;32m~\\AppData\\Local\\Temp/ipykernel_12556/4019469925.py\u001b[0m in \u001b[0;36m<module>\u001b[1;34m\u001b[0m\n\u001b[0;32m      1\u001b[0m \u001b[0mx\u001b[0m\u001b[1;33m=\u001b[0m\u001b[1;36m1234\u001b[0m\u001b[1;33m\u001b[0m\u001b[1;33m\u001b[0m\u001b[0m\n\u001b[1;32m----> 2\u001b[1;33m \u001b[0mw\u001b[0m\u001b[1;33m=\u001b[0m\u001b[0mx\u001b[0m\u001b[1;33m[\u001b[0m\u001b[1;36m0\u001b[0m\u001b[1;33m]\u001b[0m\u001b[1;33m\u001b[0m\u001b[1;33m\u001b[0m\u001b[0m\n\u001b[0m",
      "\u001b[1;31mTypeError\u001b[0m: 'int' object is not subscriptable"
     ]
    }
   ],
   "source": [
    "x=1234\n",
    "w=x[0]"
   ]
  },
  {
   "cell_type": "code",
   "execution_count": 48,
   "id": "7af337ca",
   "metadata": {},
   "outputs": [
    {
     "name": "stdout",
     "output_type": "stream",
     "text": [
      "4321\n"
     ]
    }
   ],
   "source": [
    "num=1234\n",
    "x = str(num)[::-1]\n",
    "print(x)\n",
    "# y = x[::-1]\n",
    "# print (int(x))"
   ]
  },
  {
   "cell_type": "code",
   "execution_count": 50,
   "id": "9437a8cc",
   "metadata": {
    "scrolled": true
   },
   "outputs": [
    {
     "name": "stdout",
     "output_type": "stream",
     "text": [
      "4321\n"
     ]
    }
   ],
   "source": [
    "num=1234\n",
    "print(str(num)[::-1])\n"
   ]
  },
  {
   "cell_type": "code",
   "execution_count": 53,
   "id": "6a580c4f",
   "metadata": {
    "scrolled": true
   },
   "outputs": [
    {
     "name": "stdout",
     "output_type": "stream",
     "text": [
      "4321\n"
     ]
    }
   ],
   "source": [
    "num=1234\n",
    "z = print(int(str(num)[::-1]))\n"
   ]
  },
  {
   "cell_type": "code",
   "execution_count": 54,
   "id": "48077ea6",
   "metadata": {},
   "outputs": [
    {
     "name": "stdout",
     "output_type": "stream",
     "text": [
      "4321\n"
     ]
    }
   ],
   "source": [
    "num=1234\n",
    "z = print(int(str(num)[::-1]))"
   ]
  },
  {
   "cell_type": "code",
   "execution_count": 59,
   "id": "76476a74",
   "metadata": {},
   "outputs": [
    {
     "name": "stdout",
     "output_type": "stream",
     "text": [
      "<class 'int'>\n"
     ]
    }
   ],
   "source": [
    "num=6789\n",
    "z=(str(num)[::-1])\n",
    "(int(z))\n"
   ]
  },
  {
   "cell_type": "code",
   "execution_count": 64,
   "id": "a5e72f44",
   "metadata": {},
   "outputs": [
    {
     "name": "stdout",
     "output_type": "stream",
     "text": [
      "4321\n"
     ]
    }
   ],
   "source": [
    "num=1234\n",
    "z=(str(num)[::-1])\n",
    "print(int(z))"
   ]
  },
  {
   "cell_type": "code",
   "execution_count": 84,
   "id": "6e907fc4",
   "metadata": {},
   "outputs": [
    {
     "name": "stdout",
     "output_type": "stream",
     "text": [
      "['apple', 'banana', 'cherry', 'mango', 'pineapple', 'watermelon']\n"
     ]
    }
   ],
   "source": [
    "my_list = [\"apple\", \"banana\", \"cherry\", \"mango\", \"pineapple\", \"watermelon\"]\n",
    "dessert = [\"apple cake\", \"banana cake\", \"donut\", \"fudge\", \"ice cream\", \"jilapi\"]\n",
    "x=0\n",
    "for i in my_list:\n",
    "    dessert[x]=i\n",
    "    x+=1\n",
    "    \n",
    "print(dessert)\n",
    "    "
   ]
  },
  {
   "cell_type": "code",
   "execution_count": 94,
   "id": "10133dc7",
   "metadata": {},
   "outputs": [
    {
     "name": "stdout",
     "output_type": "stream",
     "text": [
      "{'Monday': 'rainy', 'Tuesday': 'rainy', 'Wednesday': 'still_raining', 'Thursday': 'Freezing_rain', 'Friday': 'Just_plain_cold'}\n"
     ]
    }
   ],
   "source": [
    "hobbies = [\"reading\", \"hiking\", \"gaming\", \"walking\", \"watching tv\"]\n",
    "books = ['history','biographies','autobiographies','textbooks','romances']\n",
    "average_weight_in_lbs = [280,275,269,265,279]\n",
    "pets = ['Lewis','Clark','Gypsy']\n",
    "temp_past_wk_in_F = [45,32,29.5,26,33]\n",
    "\n",
    "bills = {'phone':100,'rent':500,'water':125,'phone':1000}\n",
    "food_status = {'milk':'fresh','veggies':'almost gone', 'eggs':7, 'bread':'stale'}\n",
    "contact_info = {'mom':'336-555-5555','dad':'485-555-5555','sister':'366-555-5555','wife':'317-555-5555','ER':'911'}\n",
    "room_colors = {'kitchen':'gray','library':'red','back_room':'bright_green','upstairs_bedroom':'pale_blue'}\n",
    "weather_this_week = {'Monday':'rainy','Tuesday':'rainy','Wednesday':'still_raining','Thursday':'Freezing_rain','Friday':'Just_plain_cold'}\n",
    "\n",
    "\n",
    "\n",
    "\n",
    "print(weather_this_week)"
   ]
  },
  {
   "cell_type": "code",
   "execution_count": null,
   "id": "3b4b0313",
   "metadata": {},
   "outputs": [],
   "source": []
  }
 ],
 "metadata": {
  "kernelspec": {
   "display_name": "Python 3 (ipykernel)",
   "language": "python",
   "name": "python3"
  },
  "language_info": {
   "codemirror_mode": {
    "name": "ipython",
    "version": 3
   },
   "file_extension": ".py",
   "mimetype": "text/x-python",
   "name": "python",
   "nbconvert_exporter": "python",
   "pygments_lexer": "ipython3",
   "version": "3.9.7"
  }
 },
 "nbformat": 4,
 "nbformat_minor": 5
}
